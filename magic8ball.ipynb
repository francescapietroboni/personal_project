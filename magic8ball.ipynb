{
 "cells": [
  {
   "cell_type": "code",
   "execution_count": null,
   "metadata": {},
   "outputs": [],
   "source": [
    "#mode 1\n",
    "\n",
    "\n",
    "import random\n",
    "\n",
    "responses = { \n",
    "    'positive_responses': [\"It is certain\", \"It is decidedly so\", \"Without a doubt\", \"Yes, definitely\",\n",
    "                           \"You may rely on it\", \"As I see it, yes\", \"Most Likely\", \"Outlook Good\",\n",
    "                           \"Yes\", \"Signs point to yes\"],\n",
    "    'negative_responses': [\"Reply hazy, try again\", \"Ask again later\",\n",
    "                           \"Better not tell you now\", \"Cannot predict now\", \"Concentrate and ask again\",\n",
    "                           \"Don't count on it\", \"My reply is no\", \"My sources say no\", \"Outlook not so good\", \n",
    "                           \"Very Doubtful\"]\n",
    "}\n",
    "\n",
    "\n",
    "\n",
    "responses_probability = [0.4, 0.6] #assigns a specific probability to the two keys in the dictionary\n",
    "\n",
    "def magic_8_ball(): #define the function\n",
    "    question = input(\"Ask the Magic 8-Ball a question: \")\n",
    "    response_type = random.choices(['positive_responses', 'negative_responses'], weights=responses_probability, k=1)[0]\n",
    "    response = random.choice(responses[response_type])\n",
    "    return response\n",
    "\n",
    "print(\"Your question was:\", question, \".\", \"The Magic 8 Ball says:\",magic_8_ball())"
   ]
  },
  {
   "cell_type": "code",
   "execution_count": null,
   "metadata": {},
   "outputs": [],
   "source": [
    "#mode 2\n",
    "\n",
    "\n",
    "import pandas as pd\n",
    "import numpy as np\n",
    "\n",
    "responses = [\"It is certain\", \"It is decidedly so\", \"Without a doubt\", \"Yes, definitely\",\n",
    "             \"You may rely on it\", \"As I see it, yes\", \"Most Likely\", \"Outlook Good\",\n",
    "             \"Yes\", \"Signs point to yes\", \"Reply hazy, try again\", \"Ask again later\",\n",
    "             \"Better not tell you now\", \"Cannot predict now\", \"Concentrate and ask again\",\n",
    "             \"Don't count on it\", \"My reply is no\", \"My sources say no\", \"Outlook not so good\", \"Very Doubtful\"]\n",
    "\n",
    "def magic_ball():\n",
    "    question = input(\"Ask the Magic 8 Ball a question: \")  \n",
    "    if question: \n",
    "        response = np.random.choice(responses)  #a random answer is selected from the list above\n",
    "        print(\"Your question was:\", question, \".\", f\"The Magic 8 Ball says: {response}\")\n",
    "    else:\n",
    "        print(\"You didn't ask anything!\")\n",
    "\n",
    "magic_ball()\n"
   ]
  },
  {
   "cell_type": "code",
   "execution_count": null,
   "metadata": {},
   "outputs": [],
   "source": [
    "#mode 3 \n",
    "import numpy as np\n",
    "import random\n",
    "\n",
    "question = input(\"Ask the Magic 8 Ball your question:\")\n",
    "probability = [np.random.binomial(n=10, p=0.5)/10 for _ in range(20)] #the probability is assigned randomly to all the variables \n",
    "probability = [p/sum(probability) for p in probability] #and then it is normalised to make sure that the sum of each probability is equal to 1 \n",
    "\n",
    "answers = [\"It is certain\", \"It is decidedly so\", \"Without a doubt\", \"Yes, definitely\",\n",
    "           \"You may rely on it\", \"As I see it, yes\", \"Most Likely\", \"Outlook Good\",\n",
    "           \"Yes\", \"Signs point to yes\", \"Reply hazy, try again\", \"Ask again later\",\n",
    "           \"Better not tell you now\", \"Cannot predict now\", \"Concentrate and ask again\",\n",
    "           \"Don't count on it\", \"My reply is no\", \"My sources say no\", \"Outlook not so good\", \"Very Doubtful\"]\n",
    "\n",
    "\n",
    "chosen_answer = random.choices(answers,probability)[0] #a random answer is selected according to its probability\n",
    "\n",
    "print(\"Your question was:\", question, \".\", \"The magic 8 ball says:\", chosen_answer)"
   ]
  }
 ],
 "metadata": {
  "language_info": {
   "name": "python"
  }
 },
 "nbformat": 4,
 "nbformat_minor": 2
}
